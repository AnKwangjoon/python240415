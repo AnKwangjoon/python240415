{
 "cells": [
  {
   "cell_type": "code",
   "execution_count": 22,
   "metadata": {},
   "outputs": [
    {
     "name": "stdout",
     "output_type": "stream",
     "text": [
      "<class 'pandas.core.frame.DataFrame'>\n",
      "RangeIndex: 666 entries, 0 to 665\n",
      "Data columns (total 23 columns):\n",
      " #   Column        Non-Null Count  Dtype  \n",
      "---  ------        --------------  -----  \n",
      " 0   시장구분          666 non-null    object \n",
      " 1   펀드명           666 non-null    object \n",
      " 2   기초지수명         666 non-null    object \n",
      " 3   운용회사          666 non-null    object \n",
      " 4   순자산총액(억원)     666 non-null    int64  \n",
      " 5   총발행좌수(천좌)     666 non-null    int64  \n",
      " 6   최초상장가격        666 non-null    int64  \n",
      " 7   거래가격_전일종가     666 non-null    int64  \n",
      " 8   거래가격_당일종가     666 non-null    int64  \n",
      " 9   추적오차_NAV(a)   666 non-null    float64\n",
      " 10  추적오차_기초지수(b)  666 non-null    float64\n",
      " 11  추적오차_오차(a-b)  666 non-null    int64  \n",
      " 12  거래대금(백만원)     666 non-null    int64  \n",
      " 13  거래량           666 non-null    int64  \n",
      " 14  지수산출기관        666 non-null    object \n",
      " 15  상장일           666 non-null    object \n",
      " 16  기초시장_대분류      666 non-null    object \n",
      " 17  기초시장_중분류      666 non-null    object \n",
      " 18  기초시장_소분류      666 non-null    object \n",
      " 19  기초자산_대분류      666 non-null    object \n",
      " 20  기초자산_중분류      666 non-null    object \n",
      " 21  기초자산_소분류      666 non-null    object \n",
      " 22  과세유형          666 non-null    object \n",
      "dtypes: float64(2), int64(8), object(13)\n",
      "memory usage: 119.8+ KB\n"
     ]
    },
    {
     "name": "stderr",
     "output_type": "stream",
     "text": [
      "c:\\Python310\\lib\\site-packages\\openpyxl\\styles\\stylesheet.py:226: UserWarning: Workbook contains no default style, apply openpyxl's default\n",
      "  warn(\"Workbook contains no default style, apply openpyxl's default\")\n"
     ]
    }
   ],
   "source": [
    "# Pandas\n",
    "import pandas as pd\n",
    "\n",
    "etf202212 = pd.read_excel(r'C:\\work\\ETF매매현황_221229.xlsx',\n",
    "                          names =[\"시장구분\",\t\"펀드명\",\t\"기초지수명\",\t\"운용회사\", \"순자산총액(억원)\",\t\"총발행좌수(천좌)\", \n",
    "                                  \"최초상장가격\",\t\"거래가격_전일종가\", \"거래가격_당일종가\", \"추적오차_NAV(a)\",\"추적오차_기초지수(b)\", \"추적오차_오차(a-b)\",\"거래대금(백만원)\", \"거래량\", \"지수산출기관\", \n",
    "                                  \"상장일\", \"기초시장_대분류\", \"기초시장_중분류\", \"기초시장_소분류\", \"기초자산_대분류\", \"기초자산_중분류\", \"기초자산_소분류\", \"과세유형\" ],\n",
    "                          skiprows=8, # 셀 병합으로 인해 9행이 아닌 8행까지 스킵\n",
    "                          index_col=None\n",
    "                          )\n",
    "\n",
    "# etf202212.reset_index(drop=False, inplace=True)\n",
    "etf202212.info()"
   ]
  },
  {
   "cell_type": "code",
   "execution_count": 23,
   "metadata": {},
   "outputs": [
    {
     "data": {
      "text/plain": [
       "시장구분            0\n",
       "펀드명             0\n",
       "기초지수명           0\n",
       "운용회사            0\n",
       "순자산총액(억원)       0\n",
       "총발행좌수(천좌)       0\n",
       "최초상장가격          0\n",
       "거래가격_전일종가       0\n",
       "거래가격_당일종가       0\n",
       "추적오차_NAV(a)     0\n",
       "추적오차_기초지수(b)    0\n",
       "추적오차_오차(a-b)    0\n",
       "거래대금(백만원)       0\n",
       "거래량             0\n",
       "지수산출기관          0\n",
       "상장일             0\n",
       "기초시장_대분류        0\n",
       "기초시장_중분류        0\n",
       "기초시장_소분류        0\n",
       "기초자산_대분류        0\n",
       "기초자산_중분류        0\n",
       "기초자산_소분류        0\n",
       "과세유형            0\n",
       "dtype: int64"
      ]
     },
     "execution_count": 23,
     "metadata": {},
     "output_type": "execute_result"
    }
   ],
   "source": [
    "etf202212.isnull().sum()"
   ]
  }
 ],
 "metadata": {
  "kernelspec": {
   "display_name": "Python 3",
   "language": "python",
   "name": "python3"
  },
  "language_info": {
   "codemirror_mode": {
    "name": "ipython",
    "version": 3
   },
   "file_extension": ".py",
   "mimetype": "text/x-python",
   "name": "python",
   "nbconvert_exporter": "python",
   "pygments_lexer": "ipython3",
   "version": "3.10.9"
  }
 },
 "nbformat": 4,
 "nbformat_minor": 2
}
